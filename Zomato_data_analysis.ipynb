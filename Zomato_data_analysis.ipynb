{
 "cells": [
  {
   "cell_type": "markdown",
   "id": "1a48c514",
   "metadata": {},
   "source": [
    "# ZOMATO DATA ANALYSIS\n"
   ]
  },
  {
   "cell_type": "code",
   "execution_count": 33,
   "id": "76059ed2",
   "metadata": {},
   "outputs": [],
   "source": [
    "import findspark\n",
    "findspark.init()"
   ]
  },
  {
   "cell_type": "code",
   "execution_count": 34,
   "id": "83885167",
   "metadata": {},
   "outputs": [],
   "source": [
    "from pyspark.sql import SparkSession\n",
    "from pyspark.sql.types import *\n",
    "from pyspark.sql.functions import *\n",
    "spark=SparkSession.builder.appName(\"Zomato Analysis\").getOrCreate()"
   ]
  },
  {
   "cell_type": "markdown",
   "id": "e17050e4",
   "metadata": {},
   "source": [
    "#### Schema creation for Zomato data"
   ]
  },
  {
   "cell_type": "code",
   "execution_count": 48,
   "id": "f06ee5d1",
   "metadata": {},
   "outputs": [],
   "source": [
    "\n",
    "zomato_schema=StructType(fields=[StructField(\"Restaurant ID\", IntegerType(),False),\n",
    "                                StructField(\"Restaurant Name\", StringType(),True),\n",
    "                                StructField(\"Country Code\", StringType(),True),\n",
    "                                StructField(\"City\", StringType(),True),\n",
    "                                StructField(\"Address\", StringType(),True),\n",
    "                                StructField(\"Locality\", StringType(),True),\n",
    "                                StructField(\"Locality Verbose\", StringType(),True),\n",
    "                                StructField(\"Longitude\", IntegerType(),True),\n",
    "                                StructField(\"Latitude\", IntegerType(),True),\n",
    "                                StructField(\"Cuisines\", StringType(),True),\n",
    "                                StructField(\"Average Cost for two\", IntegerType(),True),\n",
    "                                StructField(\"Currency\", StringType(),True),\n",
    "                                StructField(\"Has Table booking\", StringType(),True),\n",
    "                                StructField(\"Has Online delivery\", StringType(),True),\n",
    "                                StructField(\"Is delivering now\", StringType(),True),\n",
    "                                StructField(\"Switch to order menu\", StringType(),True),\n",
    "                                StructField(\"Price range\", IntegerType(),True),\n",
    "                                StructField(\"Aggregate rating\", FloatType(),True),\n",
    "                                StructField(\"Rating color\", StringType(),True),\n",
    "                                StructField(\"Rating text\", StringType(),True),\n",
    "                                StructField(\"Votes\", IntegerType(),True)])\n"
   ]
  },
  {
   "cell_type": "markdown",
   "id": "e9ac74d5",
   "metadata": {},
   "source": [
    "#### Reading the zomato file"
   ]
  },
  {
   "cell_type": "code",
   "execution_count": 49,
   "id": "20332664",
   "metadata": {},
   "outputs": [],
   "source": [
    "zomato_df=spark.read\\\n",
    ".option(\"header\",True)\\\n",
    ".schema(zomato_schema)\\\n",
    ".csv(\"F:\\zomato.csv\")"
   ]
  },
  {
   "cell_type": "code",
   "execution_count": 50,
   "id": "5cd03853",
   "metadata": {},
   "outputs": [
    {
     "name": "stdout",
     "output_type": "stream",
     "text": [
      "+-------------+----------------------------------------+------------+----------------+-----------------------------------------------------------------------------------+-----------------------------------------------+------------------------------------------------------------+---------+--------+----------------------------------+--------------------+----------------+-----------------+-------------------+-----------------+--------------------+-----------+----------------+------------+-----------+-----+\n",
      "|Restaurant ID|Restaurant Name                         |Country Code|City            |Address                                                                            |Locality                                       |Locality Verbose                                            |Longitude|Latitude|Cuisines                          |Average Cost for two|Currency        |Has Table booking|Has Online delivery|Is delivering now|Switch to order menu|Price range|Aggregate rating|Rating color|Rating text|Votes|\n",
      "+-------------+----------------------------------------+------------+----------------+-----------------------------------------------------------------------------------+-----------------------------------------------+------------------------------------------------------------+---------+--------+----------------------------------+--------------------+----------------+-----------------+-------------------+-----------------+--------------------+-----------+----------------+------------+-----------+-----+\n",
      "|6317637      |Le Petit Souffle                        |162         |Makati City     |Third Floor, Century City Mall, Kalayaan Avenue, Poblacion, Makati City            |Century City Mall, Poblacion, Makati City      |Century City Mall, Poblacion, Makati City, Makati City      |null     |null    |French, Japanese, Desserts        |1100                |Botswana Pula(P)|Yes              |No                 |No               |No                  |3          |4.8             |Dark Green  |Excellent  |314  |\n",
      "|6304287      |Izakaya Kikufuji                        |162         |Makati City     |Little Tokyo, 2277 Chino Roces Avenue, Legaspi Village, Makati City                |Little Tokyo, Legaspi Village, Makati City     |Little Tokyo, Legaspi Village, Makati City, Makati City     |null     |null    |Japanese                          |1200                |Botswana Pula(P)|Yes              |No                 |No               |No                  |3          |4.5             |Dark Green  |Excellent  |591  |\n",
      "|6300002      |Heat - Edsa Shangri-La                  |162         |Mandaluyong City|Edsa Shangri-La, 1 Garden Way, Ortigas, Mandaluyong City                           |Edsa Shangri-La, Ortigas, Mandaluyong City     |Edsa Shangri-La, Ortigas, Mandaluyong City, Mandaluyong City|null     |null    |Seafood, Asian, Filipino, Indian  |4000                |Botswana Pula(P)|Yes              |No                 |No               |No                  |4          |4.4             |Green       |Very Good  |270  |\n",
      "|6318506      |Ooma                                    |162         |Mandaluyong City|Third Floor, Mega Fashion Hall, SM Megamall, Ortigas, Mandaluyong City             |SM Megamall, Ortigas, Mandaluyong City         |SM Megamall, Ortigas, Mandaluyong City, Mandaluyong City    |null     |null    |Japanese, Sushi                   |1500                |Botswana Pula(P)|No               |No                 |No               |No                  |4          |4.9             |Dark Green  |Excellent  |365  |\n",
      "|6314302      |Sambo Kojin                             |162         |Mandaluyong City|Third Floor, Mega Atrium, SM Megamall, Ortigas, Mandaluyong City                   |SM Megamall, Ortigas, Mandaluyong City         |SM Megamall, Ortigas, Mandaluyong City, Mandaluyong City    |null     |null    |Japanese, Korean                  |1500                |Botswana Pula(P)|Yes              |No                 |No               |No                  |4          |4.8             |Dark Green  |Excellent  |229  |\n",
      "|18189371     |Din Tai Fung                            |162         |Mandaluyong City|Ground Floor, Mega Fashion Hall, SM Megamall, Ortigas, Mandaluyong City            |SM Megamall, Ortigas, Mandaluyong City         |SM Megamall, Ortigas, Mandaluyong City, Mandaluyong City    |null     |null    |Chinese                           |1000                |Botswana Pula(P)|No               |No                 |No               |No                  |3          |4.4             |Green       |Very Good  |336  |\n",
      "|6300781      |Buffet 101                              |162         |Pasay City      |Building K, SM By The Bay, Sunset Boulevard, Mall of Asia Complex (MOA), Pasay City|SM by the Bay, Mall of Asia Complex, Pasay City|SM by the Bay, Mall of Asia Complex, Pasay City, Pasay City |null     |null    |Asian, European                   |2000                |Botswana Pula(P)|Yes              |No                 |No               |No                  |4          |4.0             |Green       |Very Good  |520  |\n",
      "|6301290      |Vikings                                 |162         |Pasay City      |Building B, By The Bay, Seaside Boulevard, Mall of Asia Complex (MOA), Pasay City  |SM by the Bay, Mall of Asia Complex, Pasay City|SM by the Bay, Mall of Asia Complex, Pasay City, Pasay City |null     |null    |Seafood, Filipino, Asian, European|2000                |Botswana Pula(P)|Yes              |No                 |No               |No                  |4          |4.2             |Green       |Very Good  |677  |\n",
      "|6300010      |Spiral - Sofitel Philippine Plaza Manila|162         |Pasay City      |Plaza Level, Sofitel Philippine Plaza Manila, CCP Complex, Pasay City              |Sofitel Philippine Plaza Manila, Pasay City    |Sofitel Philippine Plaza Manila, Pasay City, Pasay City     |null     |null    |European, Asian, Indian           |6000                |Botswana Pula(P)|Yes              |No                 |No               |No                  |4          |4.9             |Dark Green  |Excellent  |621  |\n",
      "|6314987      |Locavore                                |162         |Pasig City      |Brixton Technology Center, 10 Brixton Street, Kapitolyo, Pasig City                |Kapitolyo                                      |Kapitolyo, Pasig City                                       |null     |null    |Filipino                          |1100                |Botswana Pula(P)|Yes              |No                 |No               |No                  |3          |4.8             |Dark Green  |Excellent  |532  |\n",
      "+-------------+----------------------------------------+------------+----------------+-----------------------------------------------------------------------------------+-----------------------------------------------+------------------------------------------------------------+---------+--------+----------------------------------+--------------------+----------------+-----------------+-------------------+-----------------+--------------------+-----------+----------------+------------+-----------+-----+\n",
      "only showing top 10 rows\n",
      "\n"
     ]
    }
   ],
   "source": [
    "zomato_df.show(10,False)"
   ]
  },
  {
   "cell_type": "markdown",
   "id": "c36e7972",
   "metadata": {},
   "source": [
    "#### Renaming column names in Zomato DF"
   ]
  },
  {
   "cell_type": "code",
   "execution_count": 51,
   "id": "d0d5ad15",
   "metadata": {},
   "outputs": [],
   "source": [
    "zomato_df_new=zomato_df.withColumnRenamed(\"Restaurant ID\",\"Restaurant_ID\")\\\n",
    ".withColumnRenamed(\"Restaurant Name\",\"Restaurant_Name\")\\\n",
    ".withColumnRenamed(\"Country Code\",\"Country_Code\")\\\n",
    ".withColumnRenamed(\"Locality Verbose\",\"Locality_Verbose\")\\\n",
    ".withColumnRenamed(\"Average Cost for two\",\"Average_Cost_for_two\")\\\n",
    ".withColumnRenamed(\"Has Table booking\",\"Has_Table_booking\")\\\n",
    ".withColumnRenamed(\"Has Online delivery\",\"Has_Online_delivery\")\\\n",
    ".withColumnRenamed(\"Is delivering now\",\"Is_delivering_now\")\\\n",
    ".withColumnRenamed(\"Switch to order menu\",\"order_menu\")\\\n",
    ".withColumnRenamed(\"Price range\",\"Price_range\")\\\n",
    ".withColumnRenamed(\"Aggregate rating\",\"Aggregate_rating\")\\\n",
    ".withColumnRenamed(\"Rating color\",\"Rating_color\")\\\n",
    ".withColumnRenamed(\"Rating text\",\"Rating_text\")\n"
   ]
  },
  {
   "cell_type": "code",
   "execution_count": 40,
   "id": "6b4bb572",
   "metadata": {
    "scrolled": true
   },
   "outputs": [
    {
     "name": "stdout",
     "output_type": "stream",
     "text": [
      "+-------------+--------------------+------------+----------------+--------------------+--------------------+--------------------+---------+--------+--------------------+--------------------+----------------+-----------------+-------------------+-----------------+----------+-----------+----------------+------------+-----------+-----+\n",
      "|Restaurant_ID|     Restaurant_Name|Country_Code|            City|             Address|            Locality|    Locality_Verbose|Longitude|Latitude|            Cuisines|Average_Cost_for_two|        Currency|Has_Table_booking|Has_Online_delivery|Is_delivering_now|order_menu|Price_range|Aggregate_rating|Rating_color|Rating_text|Votes|\n",
      "+-------------+--------------------+------------+----------------+--------------------+--------------------+--------------------+---------+--------+--------------------+--------------------+----------------+-----------------+-------------------+-----------------+----------+-----------+----------------+------------+-----------+-----+\n",
      "|      6317637|    Le Petit Souffle|         162|     Makati City|Third Floor, Cent...|Century City Mall...|Century City Mall...|     null|    null|French, Japanese,...|                1100|Botswana Pula(P)|              Yes|                 No|               No|        No|          3|             4.8|  Dark Green|  Excellent|  314|\n",
      "|      6304287|    Izakaya Kikufuji|         162|     Makati City|Little Tokyo, 227...|Little Tokyo, Leg...|Little Tokyo, Leg...|     null|    null|            Japanese|                1200|Botswana Pula(P)|              Yes|                 No|               No|        No|          3|             4.5|  Dark Green|  Excellent|  591|\n",
      "|      6300002|Heat - Edsa Shang...|         162|Mandaluyong City|Edsa Shangri-La, ...|Edsa Shangri-La, ...|Edsa Shangri-La, ...|     null|    null|Seafood, Asian, F...|                4000|Botswana Pula(P)|              Yes|                 No|               No|        No|          4|             4.4|       Green|  Very Good|  270|\n",
      "|      6318506|                Ooma|         162|Mandaluyong City|Third Floor, Mega...|SM Megamall, Orti...|SM Megamall, Orti...|     null|    null|     Japanese, Sushi|                1500|Botswana Pula(P)|               No|                 No|               No|        No|          4|             4.9|  Dark Green|  Excellent|  365|\n",
      "|      6314302|         Sambo Kojin|         162|Mandaluyong City|Third Floor, Mega...|SM Megamall, Orti...|SM Megamall, Orti...|     null|    null|    Japanese, Korean|                1500|Botswana Pula(P)|              Yes|                 No|               No|        No|          4|             4.8|  Dark Green|  Excellent|  229|\n",
      "|     18189371|        Din Tai Fung|         162|Mandaluyong City|Ground Floor, Meg...|SM Megamall, Orti...|SM Megamall, Orti...|     null|    null|             Chinese|                1000|Botswana Pula(P)|               No|                 No|               No|        No|          3|             4.4|       Green|  Very Good|  336|\n",
      "|      6300781|          Buffet 101|         162|      Pasay City|Building K, SM By...|SM by the Bay, Ma...|SM by the Bay, Ma...|     null|    null|     Asian, European|                2000|Botswana Pula(P)|              Yes|                 No|               No|        No|          4|             4.0|       Green|  Very Good|  520|\n",
      "|      6301290|             Vikings|         162|      Pasay City|Building B, By Th...|SM by the Bay, Ma...|SM by the Bay, Ma...|     null|    null|Seafood, Filipino...|                2000|Botswana Pula(P)|              Yes|                 No|               No|        No|          4|             4.2|       Green|  Very Good|  677|\n",
      "|      6300010|Spiral - Sofitel ...|         162|      Pasay City|Plaza Level, Sofi...|Sofitel Philippin...|Sofitel Philippin...|     null|    null|European, Asian, ...|                6000|Botswana Pula(P)|              Yes|                 No|               No|        No|          4|             4.9|  Dark Green|  Excellent|  621|\n",
      "|      6314987|            Locavore|         162|      Pasig City|Brixton Technolog...|           Kapitolyo|Kapitolyo, Pasig ...|     null|    null|            Filipino|                1100|Botswana Pula(P)|              Yes|                 No|               No|        No|          3|             4.8|  Dark Green|  Excellent|  532|\n",
      "+-------------+--------------------+------------+----------------+--------------------+--------------------+--------------------+---------+--------+--------------------+--------------------+----------------+-----------------+-------------------+-----------------+----------+-----------+----------------+------------+-----------+-----+\n",
      "only showing top 10 rows\n",
      "\n"
     ]
    }
   ],
   "source": [
    "zomato_df_new.show(10) "
   ]
  },
  {
   "cell_type": "markdown",
   "id": "088abd9f",
   "metadata": {},
   "source": [
    "####  Reading Country Code file"
   ]
  },
  {
   "cell_type": "code",
   "execution_count": 35,
   "id": "ab90c1d7",
   "metadata": {},
   "outputs": [],
   "source": [
    "\n",
    "country_code_df=spark.read\\\n",
    ".option(\"header\",True)\\\n",
    ".option(\"Inferschema\",True)\\\n",
    ".csv(\"F:\\countrycode.csv\")\n",
    "\n",
    "\n",
    "\n"
   ]
  },
  {
   "cell_type": "code",
   "execution_count": 36,
   "id": "79527206",
   "metadata": {},
   "outputs": [
    {
     "name": "stdout",
     "output_type": "stream",
     "text": [
      "+------------+--------------+\n",
      "|Country Code|       Country|\n",
      "+------------+--------------+\n",
      "|           1|         India|\n",
      "|          14|     Australia|\n",
      "|          30|        Brazil|\n",
      "|          37|        Canada|\n",
      "|          94|     Indonesia|\n",
      "|         148|   New Zealand|\n",
      "|         162|   Phillipines|\n",
      "|         166|         Qatar|\n",
      "|         184|     Singapore|\n",
      "|         189|  South Africa|\n",
      "|         191|     Sri Lanka|\n",
      "|         208|        Turkey|\n",
      "|         214|           UAE|\n",
      "|         215|United Kingdom|\n",
      "|         216| United States|\n",
      "+------------+--------------+\n",
      "\n"
     ]
    }
   ],
   "source": [
    "country_code_df.show()"
   ]
  },
  {
   "cell_type": "markdown",
   "id": "bad35ea3",
   "metadata": {},
   "source": [
    "#### Renaming Column in  Countrycode DF and Create Sql table "
   ]
  },
  {
   "cell_type": "code",
   "execution_count": 89,
   "id": "42002a9f",
   "metadata": {},
   "outputs": [],
   "source": [
    "country_code_df\\\n",
    ".withColumnRenamed(\"Country Code\",\"Country_Code\")\\\n",
    ".createOrReplaceTempView(\"country_code\")\n"
   ]
  },
  {
   "cell_type": "code",
   "execution_count": 54,
   "id": "3f6065ac",
   "metadata": {},
   "outputs": [],
   "source": [
    "zomato_df_new.createOrReplaceTempView(\"zomato\")"
   ]
  },
  {
   "cell_type": "markdown",
   "id": "301af0c6",
   "metadata": {},
   "source": [
    "#### Top Countries with best Average Food Rating"
   ]
  },
  {
   "cell_type": "code",
   "execution_count": 95,
   "id": "8f3de0d6",
   "metadata": {},
   "outputs": [
    {
     "name": "stdout",
     "output_type": "stream",
     "text": [
      "+--------------+----------------+----------+\n",
      "|       country|total_restaurant|avg_rating|\n",
      "+--------------+----------------+----------+\n",
      "|   Phillipines|              22|      4.47|\n",
      "|        Turkey|              34|       4.3|\n",
      "|     Indonesia|              21|       4.3|\n",
      "|   New Zealand|              40|      4.26|\n",
      "|           UAE|              60|      4.24|\n",
      "|  South Africa|              60|      4.21|\n",
      "|United Kingdom|              80|      4.09|\n",
      "|         Qatar|              20|      4.06|\n",
      "| United States|             434|       4.0|\n",
      "|     Sri Lanka|              20|      3.87|\n",
      "|        Brazil|              60|      3.76|\n",
      "|     Australia|              24|      3.66|\n",
      "|     Singapore|              20|      3.59|\n",
      "|        Canada|               4|      3.58|\n",
      "|         India|            8652|      2.52|\n",
      "+--------------+----------------+----------+\n",
      "\n"
     ]
    }
   ],
   "source": [
    "spark.sql(\"\"\"\n",
    "select c.country,count(z.Restaurant_ID) total_restaurant,round(avg(z.Aggregate_rating),2) avg_rating\n",
    "from country_code c join zomato z on c.country_code=z.country_code\n",
    "group by c.Country\n",
    "order by avg_rating desc\n",
    "\n",
    " \"\"\").show() "
   ]
  },
  {
   "cell_type": "markdown",
   "id": "449fe656",
   "metadata": {},
   "source": [
    "####  Top Restaurants with Good Agg rating outside the India"
   ]
  },
  {
   "cell_type": "code",
   "execution_count": 102,
   "id": "2c75aa2c",
   "metadata": {},
   "outputs": [
    {
     "name": "stdout",
     "output_type": "stream",
     "text": [
      "+-------------+--------------------+--------------+--------------+----------------+\n",
      "|Restaurant_ID|     Restaurant_Name|       country|          City|Aggregate_rating|\n",
      "+-------------+--------------------+--------------+--------------+----------------+\n",
      "|     18269368|AB's Absolute Bar...|           UAE|         Dubai|             4.9|\n",
      "|     17375072|Atlanta Highway S...| United States|   Gainesville|             4.9|\n",
      "|      6127163|                 Bao|United Kingdom|        London|             4.9|\n",
      "|      7300955|  Braseiro da G��vea|        Brazil|Rio de Janeiro|             4.9|\n",
      "|     18254160| Carnival By Tresind|           UAE|         Dubai|             4.9|\n",
      "|      6600427|          Coco Bambu|        Brazil|     Bras�_lia|             4.9|\n",
      "|      6501534|Cube - Tasting Ki...|  South Africa|    Inner City|             4.9|\n",
      "|      5927248|    Draft Gastro Pub|        Turkey|     ��stanbul|             4.9|\n",
      "|      6114829|       Duck & Waffle|United Kingdom|        London|             4.9|\n",
      "|      6114338|           Flat Iron|United Kingdom|        London|             4.9|\n",
      "|      6004011|        Gaga Manjero|        Turkey|        Ankara|             4.9|\n",
      "|      7300515|   Garota de Ipanema|        Brazil|Rio de Janeiro|             4.9|\n",
      "|     17500759|Ingleside Village...| United States|         Macon|             4.9|\n",
      "|      6202039|Mainland China Re...|         Qatar|          Doha|             4.9|\n",
      "|     17142792|   Mama's Fish House| United States|Rest of Hawaii|             4.9|\n",
      "|     17145495|       Marukame Udon| United States|Rest of Hawaii|             4.9|\n",
      "|     17095098|Mazzaro's Italian...| United States|     Tampa Bay|             4.9|\n",
      "|     17580142|McGuire's Irish P...| United States|     Pensacola|             4.9|\n",
      "|     18217279|               Miann|   New Zealand|      Auckland|             4.9|\n",
      "|      7001086|               Milse|   New Zealand|      Auckland|             4.9|\n",
      "+-------------+--------------------+--------------+--------------+----------------+\n",
      "only showing top 20 rows\n",
      "\n"
     ]
    }
   ],
   "source": [
    "spark.sql(\"\"\"\n",
    "select z.Restaurant_ID,z.Restaurant_Name,c.country,z.City,z.Aggregate_rating\n",
    "from zomato z join country_code c on z.country_code=c.country_code\n",
    "where c.Country !=\"India\"\n",
    "order by Aggregate_rating desc, Restaurant_Name\n",
    "\n",
    " \"\"\").show() "
   ]
  },
  {
   "cell_type": "markdown",
   "id": "d9f70564",
   "metadata": {},
   "source": [
    "#### Top Restaurants in India with Good Agg Ratings"
   ]
  },
  {
   "cell_type": "code",
   "execution_count": 112,
   "id": "94c5ec3b",
   "metadata": {},
   "outputs": [
    {
     "name": "stdout",
     "output_type": "stream",
     "text": [
      "+-------------+--------------------+----------+----------------+\n",
      "|Restaurant_ID|     Restaurant_Name|      City|Aggregate_rating|\n",
      "+-------------+--------------------+----------+----------------+\n",
      "|     18452864|AB's - Absolute B...| Hyderabad|             4.9|\n",
      "|     18384227|AB's - Absolute B...|   Chennai|             4.9|\n",
      "|        94286|AB's - Absolute B...| Hyderabad|             4.9|\n",
      "|      2100702|     Barbeque Nation|  Guwahati|             4.9|\n",
      "|        20842|     Barbeque Nation|   Kolkata|             4.9|\n",
      "|      3300958|     Barbeque Nation|    Nagpur|             4.9|\n",
      "|        25570|     Barbeque Nation|   Kolkata|             4.9|\n",
      "|      2800856|     Barbeque Nation|     Vizag|             4.9|\n",
      "|      3001321|             CakeBee|Coimbatore|             4.9|\n",
      "|     18384115|         Caterspoint|   Gurgaon|             4.9|\n",
      "|       800468|Grandson of Tunda...|   Lucknow|             4.9|\n",
      "|         2004|Indian Accent - T...| New Delhi|             4.9|\n",
      "|     18345728|      Masala Library| New Delhi|             4.9|\n",
      "|     17806994|     Mirchi And Mime|    Mumbai|             4.9|\n",
      "|       310143|  Naturals Ice Cream| New Delhi|             4.9|\n",
      "|      2600109|Sagar Gaire Fast ...|    Bhopal|             4.9|\n",
      "|      3400346|     Sheroes Hangout|      Agra|             4.9|\n",
      "|     18416632|The Great Indian Pub|  Dehradun|             4.9|\n",
      "|     18209498|Zolocrust - Hotel...|    Jaipur|             4.9|\n",
      "|       130275|      Burger Factory|       Goa|             4.8|\n",
      "+-------------+--------------------+----------+----------------+\n",
      "only showing top 20 rows\n",
      "\n"
     ]
    }
   ],
   "source": [
    "spark.sql(\"\"\"\n",
    "select z.Restaurant_ID,z.Restaurant_Name,z.City,z.Aggregate_rating\n",
    "from zomato z join country_code c on z.country_code=c.country_code\n",
    "where c.Country =\"India\"\n",
    "order by Aggregate_rating desc,z.Restaurant_Name\n",
    "\"\"\").show()"
   ]
  },
  {
   "cell_type": "markdown",
   "id": "aa57a3cc",
   "metadata": {},
   "source": [
    "#### Best Restaurants with Good Avg cost for two and with best ratings "
   ]
  },
  {
   "cell_type": "code",
   "execution_count": 111,
   "id": "4c016619",
   "metadata": {},
   "outputs": [
    {
     "name": "stdout",
     "output_type": "stream",
     "text": [
      "+-------------+--------------------+----------+--------------------+----------------+\n",
      "|Restaurant_ID|     Restaurant_Name|      City|Average_Cost_for_two|Aggregate_rating|\n",
      "+-------------+--------------------+----------+--------------------+----------------+\n",
      "|       310143|  Naturals Ice Cream| New Delhi|                 150|             4.9|\n",
      "|      2600109|Sagar Gaire Fast ...|    Bhopal|                 250|             4.9|\n",
      "|       800468|Grandson of Tunda...|   Lucknow|                 300|             4.9|\n",
      "|      3001321|             CakeBee|Coimbatore|                 350|             4.9|\n",
      "|     18384115|         Caterspoint|   Gurgaon|                 500|             4.9|\n",
      "|     18416632|The Great Indian Pub|  Dehradun|                1500|             4.9|\n",
      "|      2100702|     Barbeque Nation|  Guwahati|                1500|             4.9|\n",
      "|        94286|AB's - Absolute B...| Hyderabad|                1500|             4.9|\n",
      "|     18452864|AB's - Absolute B...| Hyderabad|                1500|             4.9|\n",
      "|     17806994|     Mirchi And Mime|    Mumbai|                1500|             4.9|\n",
      "|     18384227|AB's - Absolute B...|   Chennai|                1600|             4.9|\n",
      "|        25570|     Barbeque Nation|   Kolkata|                1600|             4.9|\n",
      "|        20842|     Barbeque Nation|   Kolkata|                1600|             4.9|\n",
      "|      3300958|     Barbeque Nation|    Nagpur|                1600|             4.9|\n",
      "|      2800856|     Barbeque Nation|     Vizag|                1600|             4.9|\n",
      "|     18209498|Zolocrust - Hotel...|    Jaipur|                2000|             4.9|\n",
      "|         2004|Indian Accent - T...| New Delhi|                4000|             4.9|\n",
      "|     18345728|      Masala Library| New Delhi|                5000|             4.9|\n",
      "|        96776|              Con�_u| Hyderabad|                 600|             4.8|\n",
      "|        13231|          Le Plaisir|      Pune|                1000|             4.8|\n",
      "+-------------+--------------------+----------+--------------------+----------------+\n",
      "only showing top 20 rows\n",
      "\n"
     ]
    }
   ],
   "source": [
    "spark.sql(\"\"\"\n",
    "select z.Restaurant_ID,z.Restaurant_Name,z.City,z.Average_Cost_for_two,z.Aggregate_rating\n",
    "from zomato z join country_code c on z.country_code=c.country_code\n",
    "where c.Country =\"India\" and Average_Cost_for_two is NOt null and Average_Cost_for_two>0\n",
    "order by Aggregate_rating desc,Average_Cost_for_two, z.City\n",
    "\"\"\").show()"
   ]
  },
  {
   "cell_type": "markdown",
   "id": "d4132713",
   "metadata": {},
   "source": [
    "#### Top Cities with best Avg Ratings in India"
   ]
  },
  {
   "cell_type": "code",
   "execution_count": 126,
   "id": "f663862c",
   "metadata": {},
   "outputs": [
    {
     "name": "stdout",
     "output_type": "stream",
     "text": [
      "+------------+-----------------+------------------+\n",
      "|        city|total_restaurants|        avg_rating|\n",
      "+------------+-----------------+------------------+\n",
      "|   Bangalore|               20| 4.374999976158142|\n",
      "|   Hyderabad|               18| 4.344444420602587|\n",
      "|     Chennai|               20| 4.314999985694885|\n",
      "|     Kolkata|               20| 4.254999995231628|\n",
      "|         Goa|               20| 4.245000004768372|\n",
      "|        Pune|               20| 4.219999980926514|\n",
      "|     Lucknow|               21|4.1952380793435236|\n",
      "|    Guwahati|               21| 4.190476167769659|\n",
      "|   Ahmedabad|               21| 4.161904777799334|\n",
      "|  Coimbatore|               20| 4.135000002384186|\n",
      "|      Jaipur|               20| 4.130000030994415|\n",
      "|      Mumbai|               20| 4.084999978542328|\n",
      "|       Kochi|               20| 4.079999995231629|\n",
      "|    Dehradun|               20|              4.05|\n",
      "|  Chandigarh|               18| 4.049999992052714|\n",
      "|    Vadodara|               20|             4.025|\n",
      "|       Vizag|               20| 4.004999995231628|\n",
      "|Bhubaneshwar|               21|3.9809523764110746|\n",
      "|    Ludhiana|               20|3.9799999833106994|\n",
      "|      Indore|               20|3.9700000047683717|\n",
      "+------------+-----------------+------------------+\n",
      "only showing top 20 rows\n",
      "\n"
     ]
    }
   ],
   "source": [
    "spark.sql(\"\"\"\n",
    "with t1 as(select city,count(restaurant_id) total_restaurants,avg(Aggregate_rating) avg_rating\n",
    "from zomato\n",
    "where Country_Code=1 \n",
    "group by city\n",
    "order by avg_rating desc)\n",
    "select * from t1\n",
    "where total_restaurants>10\"\"\").show()\n"
   ]
  },
  {
   "cell_type": "markdown",
   "id": "99a89be1",
   "metadata": {},
   "source": [
    "#### Top Cities with best Avg Ratings ouside the India"
   ]
  },
  {
   "cell_type": "code",
   "execution_count": 127,
   "id": "3db2bd82",
   "metadata": {},
   "outputs": [
    {
     "name": "stdout",
     "output_type": "stream",
     "text": [
      "+--------------------+-----------------+------------------+\n",
      "|                city|total_restaurants|        avg_rating|\n",
      "+--------------------+-----------------+------------------+\n",
      "|              London|               20| 4.534999978542328|\n",
      "|             Orlando|               20| 4.475000023841858|\n",
      "|           Tampa Bay|               20| 4.409999990463257|\n",
      "|      Rest of Hawaii|               20| 4.409999966621399|\n",
      "|               Dubai|               20|4.3700000762939455|\n",
      "|             Jakarta|               16| 4.356250017881393|\n",
      "|              Ankara|               20| 4.304999983310699|\n",
      "|             Sandton|               11| 4.300000039013949|\n",
      "|           Abu Dhabi|               20|4.2999999761581424|\n",
      "|           ��stanbul|               14| 4.292857101985386|\n",
      "|            Auckland|               20| 4.274999988079071|\n",
      "|      Rio de Janeiro|               20| 4.264999985694885|\n",
      "|               Boise|               20|4.2600000381469725|\n",
      "|     Wellington City|               20| 4.250000011920929|\n",
      "|          Des Moines|               20|4.2349999904632565|\n",
      "|           Pensacola|               20|               4.2|\n",
      "|              Athens|               20| 4.199999964237213|\n",
      "|            Pretoria|               20|4.1900000214576725|\n",
      "|Cedar Rapids/Iowa...|               20| 4.164999949932098|\n",
      "|            Savannah|               20| 4.154999995231629|\n",
      "+--------------------+-----------------+------------------+\n",
      "only showing top 20 rows\n",
      "\n"
     ]
    }
   ],
   "source": [
    "spark.sql(\"\"\"\n",
    "with t1 as(select city,count(restaurant_id) total_restaurants,avg(Aggregate_rating) avg_rating\n",
    "from zomato\n",
    "where Country_Code!=1 \n",
    "group by city\n",
    "order by avg_rating desc)\n",
    "select * from t1\n",
    "where total_restaurants>10\"\"\").show()"
   ]
  },
  {
   "cell_type": "code",
   "execution_count": null,
   "id": "ce5d103c",
   "metadata": {},
   "outputs": [],
   "source": []
  }
 ],
 "metadata": {
  "kernelspec": {
   "display_name": "Python 3 (ipykernel)",
   "language": "python",
   "name": "python3"
  },
  "language_info": {
   "codemirror_mode": {
    "name": "ipython",
    "version": 3
   },
   "file_extension": ".py",
   "mimetype": "text/x-python",
   "name": "python",
   "nbconvert_exporter": "python",
   "pygments_lexer": "ipython3",
   "version": "3.10.7"
  }
 },
 "nbformat": 4,
 "nbformat_minor": 5
}
