{
 "cells": [
  {
   "cell_type": "markdown",
   "id": "3e6a4648",
   "metadata": {},
   "source": [
    "# Starbucks Analysis"
   ]
  },
  {
   "cell_type": "markdown",
   "id": "8cb62efa",
   "metadata": {},
   "source": [
    "#### Import Pyspark"
   ]
  },
  {
   "cell_type": "code",
   "execution_count": 1,
   "id": "04567e4d-f2a4-482c-9488-bef5d4a982dc",
   "metadata": {
    "tags": []
   },
   "outputs": [],
   "source": [
    "import findspark\n",
    "findspark.init()"
   ]
  },
  {
   "cell_type": "code",
   "execution_count": 4,
   "id": "5641751b-72d6-496a-abe2-bfbf1c070b75",
   "metadata": {
    "tags": []
   },
   "outputs": [],
   "source": [
    "from pyspark.sql import SparkSession, Window\n",
    "from pyspark.sql.types import *\n",
    "from pyspark.sql.functions import *\n",
    "\n",
    "spark = SparkSession.builder.appName(\"starbucks Data Analysis\").getOrCreate()"
   ]
  },
  {
   "cell_type": "markdown",
   "id": "74e602aa",
   "metadata": {},
   "source": [
    "#### Schema creation"
   ]
  },
  {
   "cell_type": "code",
   "execution_count": 6,
   "id": "2f54f477-aba7-4bbf-8abc-8eb6aba7cf39",
   "metadata": {},
   "outputs": [],
   "source": [
    "\n",
    "starbucks_schema=StructType(fields=[StructField(\"null\", IntegerType(), False),\n",
    "                                StructField(\"item\",StringType(), True),\n",
    "                                StructField(\"calories\",IntegerType(), True),\n",
    "                                StructField(\"fat\",IntegerType(), True),\n",
    "                                StructField(\"carb\",IntegerType(), True),\t\n",
    "                                StructField(\"fiber\",IntegerType(), True),\n",
    "                                StructField(\"protien\",IntegerType(), True),\n",
    "                                StructField(\"type\",StringType(), True)])\n",
    "\n"
   ]
  },
  {
   "cell_type": "markdown",
   "id": "1ae6f363",
   "metadata": {},
   "source": [
    "#### Reading file in dataframe"
   ]
  },
  {
   "cell_type": "code",
   "execution_count": 12,
   "id": "c29aaff8",
   "metadata": {},
   "outputs": [],
   "source": [
    "starbucks_df=spark.read\\\n",
    ".option(\"header\",True)\\\n",
    ".schema(starbucks_schema)\\\n",
    ".csv(\"F:\\starbucks.csv\")"
   ]
  },
  {
   "cell_type": "markdown",
   "id": "887c3140",
   "metadata": {},
   "source": [
    "#### Load the data"
   ]
  },
  {
   "cell_type": "code",
   "execution_count": 13,
   "id": "bfd613db",
   "metadata": {},
   "outputs": [
    {
     "name": "stdout",
     "output_type": "stream",
     "text": [
      "+----+--------------------+--------+---+----+-----+-------+------+\n",
      "|null|                item|calories|fat|carb|fiber|protien|  type|\n",
      "+----+--------------------+--------+---+----+-----+-------+------+\n",
      "|   1|        8-Grain Roll|     350|  8|  67|    5|     10|bakery|\n",
      "|   2|   Apple Bran Muffin|     350|  9|  64|    7|      6|bakery|\n",
      "|   3|       Apple Fritter|     420| 20|  59|    0|      5|bakery|\n",
      "|   4|     Banana Nut Loaf|     490| 19|  75|    4|      7|bakery|\n",
      "|   5|Birthday Cake Min...|     130|  6|  17|    0|      0|bakery|\n",
      "+----+--------------------+--------+---+----+-----+-------+------+\n",
      "only showing top 5 rows\n",
      "\n"
     ]
    }
   ],
   "source": [
    "starbucks_df.show(5)"
   ]
  },
  {
   "cell_type": "markdown",
   "id": "4805b54e",
   "metadata": {},
   "source": [
    "#### Renaming a column name"
   ]
  },
  {
   "cell_type": "code",
   "execution_count": 17,
   "id": "391c9719",
   "metadata": {},
   "outputs": [],
   "source": [
    "starbucks_df_rename=starbucks_df.withColumnRenamed(\"null\",\"row_num\")"
   ]
  },
  {
   "cell_type": "code",
   "execution_count": 18,
   "id": "e9b2f2aa",
   "metadata": {},
   "outputs": [
    {
     "name": "stdout",
     "output_type": "stream",
     "text": [
      "+-------+--------------------+--------+---+----+-----+-------+------+\n",
      "|row_num|                item|calories|fat|carb|fiber|protien|  type|\n",
      "+-------+--------------------+--------+---+----+-----+-------+------+\n",
      "|      1|        8-Grain Roll|     350|  8|  67|    5|     10|bakery|\n",
      "|      2|   Apple Bran Muffin|     350|  9|  64|    7|      6|bakery|\n",
      "|      3|       Apple Fritter|     420| 20|  59|    0|      5|bakery|\n",
      "|      4|     Banana Nut Loaf|     490| 19|  75|    4|      7|bakery|\n",
      "|      5|Birthday Cake Min...|     130|  6|  17|    0|      0|bakery|\n",
      "+-------+--------------------+--------+---+----+-----+-------+------+\n",
      "only showing top 5 rows\n",
      "\n"
     ]
    }
   ],
   "source": [
    "starbucks_df_rename.show(5)"
   ]
  },
  {
   "cell_type": "markdown",
   "id": "81192b8d",
   "metadata": {},
   "source": [
    "#### Top five Items with high Calories"
   ]
  },
  {
   "cell_type": "code",
   "execution_count": 39,
   "id": "b0c2b4fc",
   "metadata": {},
   "outputs": [
    {
     "name": "stdout",
     "output_type": "stream",
     "text": [
      "+--------------------+--------+\n",
      "|                item|calories|\n",
      "+--------------------+--------+\n",
      "|Sausage & Cheddar...|     500|\n",
      "|     Banana Nut Loaf|     490|\n",
      "|Iced Lemon Pound ...|     490|\n",
      "|Zucchini Walnut M...|     490|\n",
      "|Cranberry Orange ...|     490|\n",
      "+--------------------+--------+\n",
      "only showing top 5 rows\n",
      "\n"
     ]
    }
   ],
   "source": [
    "starbucks_df_rename\\\n",
    ".select(\"item\",\"calories\")\\\n",
    ".orderBy(desc(\"calories\")).show(5)"
   ]
  },
  {
   "cell_type": "markdown",
   "id": "02b6c58e",
   "metadata": {},
   "source": [
    "#### top 5 items with high fat"
   ]
  },
  {
   "cell_type": "code",
   "execution_count": 40,
   "id": "53bc3750",
   "metadata": {},
   "outputs": [
    {
     "name": "stdout",
     "output_type": "stream",
     "text": [
      "+--------------------+---+\n",
      "|                item|fat|\n",
      "+--------------------+---+\n",
      "|      Cheese & Fruit| 28|\n",
      "|Zucchini Walnut M...| 28|\n",
      "|Sausage & Cheddar...| 28|\n",
      "| Egg Salad Sandwich | 27|\n",
      "|     Salumi & Cheese| 26|\n",
      "+--------------------+---+\n",
      "only showing top 5 rows\n",
      "\n"
     ]
    }
   ],
   "source": [
    "starbucks_df_rename\\\n",
    ".select(\"item\",\"fat\")\\\n",
    ".orderBy(desc(\"fat\")).show(5)"
   ]
  },
  {
   "cell_type": "markdown",
   "id": "789cefce",
   "metadata": {},
   "source": [
    "#### top 5 items with low fat"
   ]
  },
  {
   "cell_type": "code",
   "execution_count": 109,
   "id": "bff303d8",
   "metadata": {},
   "outputs": [
    {
     "name": "stdout",
     "output_type": "stream",
     "text": [
      "+--------------------+---+\n",
      "|                item|fat|\n",
      "+--------------------+---+\n",
      "|  Deluxe Fruit Blend|  0|\n",
      "|         Plain Bagel|  1|\n",
      "|Everything with C...|  2|\n",
      "|    Multigrain Bagel|  3|\n",
      "|Marshmallow Dream...|  4|\n",
      "+--------------------+---+\n",
      "only showing top 5 rows\n",
      "\n"
     ]
    }
   ],
   "source": [
    "starbucks_df_rename\\\n",
    ".select(\"item\",\"fat\")\\\n",
    ".orderBy(asc(\"fat\"))\\\n",
    ".filter(\"fat is not NULL\").show(5)"
   ]
  },
  {
   "cell_type": "code",
   "execution_count": 42,
   "id": "89164992",
   "metadata": {},
   "outputs": [],
   "source": [
    "starbucks_df_rename.createOrReplaceTempView(\"starbucks\")"
   ]
  },
  {
   "cell_type": "markdown",
   "id": "4030a512",
   "metadata": {},
   "source": [
    "### using SQL"
   ]
  },
  {
   "cell_type": "markdown",
   "id": "d6310c73",
   "metadata": {},
   "source": [
    "#### top 5 Items with High Protien"
   ]
  },
  {
   "cell_type": "code",
   "execution_count": 101,
   "id": "c243a421",
   "metadata": {},
   "outputs": [
    {
     "name": "stdout",
     "output_type": "stream",
     "text": [
      "+--------------------+-------+\n",
      "|      top_five_items|protien|\n",
      "+--------------------+-------+\n",
      "|Turkey & Swiss Sa...|     34|\n",
      "|Tarragon Chicken ...|     32|\n",
      "|  Ham & Swiss Panini|     28|\n",
      "|Chipotle Chicken ...|     26|\n",
      "|Chicken Santa Fe ...|     26|\n",
      "+--------------------+-------+\n",
      "\n"
     ]
    }
   ],
   "source": [
    "spark.sql(\"\"\"\n",
    "select item as top_five_items,protien from starbucks\n",
    "order by protien desc\n",
    "limit 5\n",
    "\"\"\").show()"
   ]
  },
  {
   "cell_type": "markdown",
   "id": "01fad6a9",
   "metadata": {},
   "source": [
    "#### Total number of Items per Type"
   ]
  },
  {
   "cell_type": "code",
   "execution_count": 64,
   "id": "0d3b7926",
   "metadata": {},
   "outputs": [
    {
     "name": "stdout",
     "output_type": "stream",
     "text": [
      "+-------------+-----------+\n",
      "|         type|total_items|\n",
      "+-------------+-----------+\n",
      "|       bakery|         41|\n",
      "|       petite|          9|\n",
      "|   bistro box|          8|\n",
      "|hot breakfast|          8|\n",
      "|     sandwich|          7|\n",
      "|      parfait|          3|\n",
      "|        salad|          1|\n",
      "+-------------+-----------+\n",
      "\n"
     ]
    }
   ],
   "source": [
    "spark.sql(\"\"\"\n",
    "select type,count(item) as total_items from starbucks\n",
    "group by type\n",
    "order by total_items desc \"\"\").show()"
   ]
  },
  {
   "cell_type": "markdown",
   "id": "e061d19d",
   "metadata": {},
   "source": [
    "#### Total number of Items per Type by  using Dataframe"
   ]
  },
  {
   "cell_type": "code",
   "execution_count": 73,
   "id": "efd826d0",
   "metadata": {},
   "outputs": [
    {
     "name": "stdout",
     "output_type": "stream",
     "text": [
      "+-------------+-----------+\n",
      "|         type|total_items|\n",
      "+-------------+-----------+\n",
      "|     sandwich|          7|\n",
      "|   bistro box|          8|\n",
      "|      parfait|          3|\n",
      "|       petite|          9|\n",
      "|       bakery|         41|\n",
      "|hot breakfast|          8|\n",
      "|        salad|          1|\n",
      "+-------------+-----------+\n",
      "\n"
     ]
    }
   ],
   "source": [
    "starbucks_df_rename\\\n",
    ".groupBy(\"type\")\\\n",
    ".agg(count(\"item\").alias(\"total_items\")).show()"
   ]
  },
  {
   "cell_type": "code",
   "execution_count": null,
   "id": "83a39139",
   "metadata": {},
   "outputs": [],
   "source": []
  },
  {
   "cell_type": "code",
   "execution_count": null,
   "id": "8366c45a",
   "metadata": {},
   "outputs": [],
   "source": []
  },
  {
   "cell_type": "code",
   "execution_count": 98,
   "id": "f99cc79c",
   "metadata": {},
   "outputs": [],
   "source": []
  },
  {
   "cell_type": "code",
   "execution_count": null,
   "id": "35754f05",
   "metadata": {},
   "outputs": [],
   "source": []
  }
 ],
 "metadata": {
  "kernelspec": {
   "display_name": "Python 3 (ipykernel)",
   "language": "python",
   "name": "python3"
  },
  "language_info": {
   "codemirror_mode": {
    "name": "ipython",
    "version": 3
   },
   "file_extension": ".py",
   "mimetype": "text/x-python",
   "name": "python",
   "nbconvert_exporter": "python",
   "pygments_lexer": "ipython3",
   "version": "3.10.7"
  }
 },
 "nbformat": 4,
 "nbformat_minor": 5
}
